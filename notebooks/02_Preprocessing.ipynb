{
 "cells": [
  {
   "cell_type": "markdown",
   "id": "00326980",
   "metadata": {},
   "source": [
    "# # Data Preprocessing Pipeline\n",
    "# **Objective**: Prepare images for CNN training"
   ]
  },
  {
   "cell_type": "code",
   "execution_count": null,
   "id": "41a23851",
   "metadata": {},
   "outputs": [],
   "source": [
    "from src.preprocessing.resize import resize_images\n",
    "from src.preprocessing.augment import create_augmentor\n",
    "import matplotlib.pyplot as plt"
   ]
  },
  {
   "cell_type": "code",
   "execution_count": null,
   "id": "a1e1d219",
   "metadata": {},
   "outputs": [],
   "source": [
    "# Configuration\n",
    "INPUT_DIR = \"../../data/raw/UTKFace\"\n",
    "OUTPUT_DIR = \"../../data/processed/resized\"\n",
    "TARGET_SIZE = (128, 128)"
   ]
  },
  {
   "cell_type": "code",
   "execution_count": null,
   "id": "3203cf7b",
   "metadata": {},
   "outputs": [],
   "source": [
    "# Resize Images (saves to processed folder)\n",
    "resize_images(INPUT_DIR, OUTPUT_DIR, TARGET_SIZE)"
   ]
  },
  {
   "cell_type": "code",
   "execution_count": null,
   "id": "9aea6acb",
   "metadata": {},
   "outputs": [],
   "source": [
    "# Verify Resized Images\n",
    "sample_img = cv2.imread(os.path.join(OUTPUT_DIR, os.listdir(OUTPUT_DIR)[0]))\n",
    "print(f\"Resized image shape: {sample_img.shape}\")  # Should show (128, 128, 3)"
   ]
  },
  {
   "cell_type": "code",
   "execution_count": null,
   "id": "f15a0d6f",
   "metadata": {},
   "outputs": [],
   "source": [
    "# Data Augmentation Demo\n",
    "augmentor = create_augmentor()\n",
    "img = cv2.imread(os.path.join(OUTPUT_DIR, os.listdir(OUTPUT_DIR)[0]))\n",
    "\n",
    "plt.figure(figsize=(15, 5))\n",
    "for i in range(5):\n",
    "    augmented = augmentor.random_transform(img)\n",
    "    plt.subplot(1, 5, i+1)\n",
    "    plt.imshow(cv2.cvtColor(augmented, cv2.COLOR_BGR2RGB))\n",
    "    plt.axis('off')\n",
    "plt.suptitle('Data Augmentation Examples', y=0.8)\n",
    "plt.savefig('../../outputs/figures/augmentation_samples.png')\n",
    "plt.show()"
   ]
  },
  {
   "cell_type": "markdown",
   "id": "8bf18842",
   "metadata": {},
   "source": [
    "# ## Preprocessing Steps Applied:\n",
    "# 1. **Resizing**: 200×200 → 128×128 pixels\n",
    "# 2. **Normalization**: Pixel values scaled to [0, 1]\n",
    "# 3. **Augmentation**: Rotation, shifting, flipping\n",
    "# 4. **Train/Val Split**: 80/20 ratio"
   ]
  }
 ],
 "metadata": {
  "language_info": {
   "name": "python"
  }
 },
 "nbformat": 4,
 "nbformat_minor": 5
}
